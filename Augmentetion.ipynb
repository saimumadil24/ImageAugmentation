{
 "cells": [
  {
   "cell_type": "code",
   "execution_count": 11,
   "id": "39c15eeb",
   "metadata": {},
   "outputs": [],
   "source": [
    "from tensorflow.keras.preprocessing.image import ImageDataGenerator,img_to_array,array_to_img, load_img"
   ]
  },
  {
   "cell_type": "code",
   "execution_count": 12,
   "id": "b97a99a8",
   "metadata": {},
   "outputs": [],
   "source": [
    "idgenerator=ImageDataGenerator(\n",
    "    rotation_range=40,\n",
    "    shear_range=0.2,\n",
    "    width_shift_range=0.2,\n",
    "    height_shift_range=0.2,\n",
    "    zoom_range=0.2,\n",
    "    horizontal_flip=True,\n",
    "    fill_mode='nearest'\n",
    ")"
   ]
  },
  {
   "cell_type": "code",
   "execution_count": 23,
   "id": "52779d5e",
   "metadata": {},
   "outputs": [],
   "source": [
    "img=load_img(r'C:\\Users\\Saimum Adil Khan\\OneDrive\\Desktop\\Edited.jpg')"
   ]
  },
  {
   "cell_type": "code",
   "execution_count": 24,
   "id": "fe01b4b5",
   "metadata": {},
   "outputs": [],
   "source": [
    "x=img_to_array(img)"
   ]
  },
  {
   "cell_type": "code",
   "execution_count": 25,
   "id": "87be6a4d",
   "metadata": {},
   "outputs": [],
   "source": [
    "x=x.reshape((1,)+x.shape)"
   ]
  },
  {
   "cell_type": "code",
   "execution_count": 26,
   "id": "3c3bc3b6",
   "metadata": {},
   "outputs": [],
   "source": [
    "i=0\n",
    "for batch in idgenerator.flow(x,batch_size=1, save_to_dir='Project-1',save_prefix='saimum',save_format='jpeg'):\n",
    "    i+=1\n",
    "    if i>20:\n",
    "        break"
   ]
  },
  {
   "cell_type": "code",
   "execution_count": null,
   "id": "92572677",
   "metadata": {},
   "outputs": [],
   "source": []
  }
 ],
 "metadata": {
  "kernelspec": {
   "display_name": "Python 3 (ipykernel)",
   "language": "python",
   "name": "python3"
  },
  "language_info": {
   "codemirror_mode": {
    "name": "ipython",
    "version": 3
   },
   "file_extension": ".py",
   "mimetype": "text/x-python",
   "name": "python",
   "nbconvert_exporter": "python",
   "pygments_lexer": "ipython3",
   "version": "3.9.16"
  }
 },
 "nbformat": 4,
 "nbformat_minor": 5
}
